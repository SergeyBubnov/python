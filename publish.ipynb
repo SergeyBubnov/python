{
 "cells": [
  {
   "cell_type": "code",
   "execution_count": null,
   "metadata": {},
   "outputs": [],
   "source": [
    "import numpy as np\n",
    "import pandas as pd\n",
    "import pcp\n",
    "from matplotlib.colors import ListedColormap\n",
    "\n",
    "def plot_decision_regions(X, y, classifier, resolution=0.01):\n",
    "\n",
    "    # setup marker generator and color map\n",
    "    markers = ('s', 'x', 'o', '^', 'v')\n",
    "    colors = ('red', 'blue', 'lightgreen', 'gray', 'cyan')\n",
    "    cmap = ListedColormap(colors[:len(np.unique(y))])\n",
    "\n",
    "    # plot the decision surface\n",
    "    x1_min, x1_max = X[:, 0].min() - 1, X[:, 0].max() + 1\n",
    "    x2_min, x2_max = X[:, 1].min() - 1, X[:, 1].max() + 1\n",
    "    xx1, xx2 = np.meshgrid(np.arange(x1_min, x1_max, resolution),\n",
    "                           np.arange(x2_min, x2_max, resolution))\n",
    "    Z = classifier.predict(np.array([xx1.ravel(), xx2.ravel()]).T)\n",
    "    Z = Z.reshape(xx1.shape)\n",
    "    plt.contourf(xx1, xx2, Z, alpha=0.3, cmap=cmap)\n",
    "    plt.xlim(xx1.min(), xx1.max())\n",
    "    plt.ylim(xx2.min(), xx2.max())\n",
    "\n",
    "    # plot class examples\n",
    "    for idx, cl in enumerate(np.unique(y)):\n",
    "        plt.scatter(x=X[y == cl, 0], \n",
    "                    y=X[y == cl, 1],\n",
    "                    alpha=0.8, \n",
    "                    c=colors[idx],\n",
    "                    marker=markers[idx], \n",
    "                    label=cl, \n",
    "                    edgecolor='black')\n",
    "\n",
    "\n",
    "#dataf should have columns churn and prediction\n",
    "def divide_frame(dataf,columns,random_state_sample = 1,random_state_ppn = 1,fraction = 0.7,eta = 0.1, iter = 50, plot = False):\n",
    "    dataf_extract = dataf.loc[:,columns+[\"churn\",\"prediction\"]]\n",
    "    dataf_extract_train = dataf_extract.sample(random_state = random_state_sample, frac = fraction)\n",
    "    dataf_extract_test = dataf_extract.drop(dataf_extract_train.index)\n",
    "    \n",
    "    X = dataf_extract_train.loc[:,columns].values\n",
    "    X_test = dataf_extract_test.loc[:,columns].values\n",
    "    y = dataf_extract_train.loc[:,\"churn\"].values\n",
    "    y_test = dataf_extract_test.loc[:,\"churn\"].values\n",
    "    pnp = pcp.Perceptron(eta,iter,random_state_ppn)\n",
    "    pnp.fit(X,y)\n",
    "\n",
    "    if plot:\n",
    "        plot_decision_regions(X_test, y_test, classifier=pnp)\n",
    "        plt.xlabel('total day charge')\n",
    "        plt.ylabel('total eve charge')\n",
    "        plt.legend(loc='upper left')\n",
    "\n",
    "    dataf_extract_test[\"prediction\"] = pnp.predict(dataf_extract_test.loc[:,columns])\n",
    "    errors = abs(dataf_extract_test[\"prediction\"]-dataf_extract_test[\"churn\"])/2\n",
    "\n",
    "    print(errors.count(), \" total in test, errors%: \",int(100*errors.sum()/errors.count()),\"%\")\n",
    "    return pnp\n",
    "\n",
    "def model(dataset):\n",
    "    \n",
    "    df = dataset[dataset[\"international plan\"]==1]\n",
    "    #nomads\n",
    "    df[df[\"total intl calls\"]<=2][\"prediction\"]=1#100% churn\n",
    "    #regular callers\n",
    "    cols = [\"total intl charge\",\"total day charge\"]\n",
    "    df[df[\"total intl calls\"]>2][\"prediction\"]=intl_regular_ppn.predict(df[df[\"total intl calls\"]>2].loc[:,cols])\n",
    "    dataset[dataset[\"international plan\"]==1][\"prediction\"] = df[\"prediction\"]\n",
    "\n",
    "    df = dataset[dataset[\"international plan\"]==0]\n",
    "    active = df[df['customer service calls']>=4] #Cusomer sevice calls >0 (267, 20) churn:  51.68539325842697 %\n",
    "    tihoni_no = df[(df['customer service calls']<4) & (df['number vmail messages']==0)] #Customer service calls = 0, not using vmail (2216, 20) churn:  13.312274368231048 %\n",
    "    tihoni_addicted = df[(df['customer service calls']<4) & (df['number vmail messages']>0)] \n"
   ]
  },
  {
   "cell_type": "code",
   "execution_count": null,
   "metadata": {},
   "outputs": [],
   "source": [
    "#prepare data\n",
    "da = pd.read_csv(\"telecom_churn.csv\")\n",
    "da.drop(columns=['account length','phone number'],inplace = True)##\n",
    "da['international plan'] = np.where(da['international plan']=='no', 0,1)\n",
    "da['voice mail plan'] = np.where(da['voice mail plan']=='no', 0,1)"
   ]
  },
  {
   "cell_type": "code",
   "execution_count": null,
   "metadata": {},
   "outputs": [],
   "source": [
    "prediction = model(da)\n",
    "#check\n",
    "errors = prediction ^ da[\"churn\"]\n",
    "percent = 100*errors.sum()/errors.count()\n",
    "print(errors.count(),f\"objects, total errors: {percent:.2f}%\")"
   ]
  }
 ],
 "metadata": {
  "kernelspec": {
   "display_name": "Python 3.8.5 ('base')",
   "language": "python",
   "name": "python3"
  },
  "language_info": {
   "name": "python",
   "version": "3.8.5"
  },
  "orig_nbformat": 4,
  "vscode": {
   "interpreter": {
    "hash": "78af5ac604e98fc3690cd4f0e0389ba6a0e2e20eefa43ee3b81103795c2dc7b7"
   }
  }
 },
 "nbformat": 4,
 "nbformat_minor": 2
}
