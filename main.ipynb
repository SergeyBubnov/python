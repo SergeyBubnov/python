{
 "cells": [
  {
   "cell_type": "code",
   "execution_count": 1,
   "metadata": {},
   "outputs": [
    {
     "ename": "NameError",
     "evalue": "name 'hello' is not defined",
     "output_type": "error",
     "traceback": [
      "\u001b[1;31m---------------------------------------------------------------------------\u001b[0m",
      "\u001b[1;31mNameError\u001b[0m                                 Traceback (most recent call last)",
      "\u001b[1;32mSergeyBubnov\\python\\main.ipynb Ячейка 1\u001b[0m in \u001b[0;36m<cell line: 3>\u001b[1;34m()\u001b[0m\n\u001b[0;32m      <a href='vscode-notebook-cell://github/SergeyBubnov/python/main.ipynb#ch0000000vscode-vfs?line=0'>1</a>\u001b[0m \u001b[39mimport\u001b[39;00m \u001b[39mtest\u001b[39;00m\n\u001b[1;32m----> <a href='vscode-notebook-cell://github/SergeyBubnov/python/main.ipynb#ch0000000vscode-vfs?line=2'>3</a>\u001b[0m hello()\n",
      "\u001b[1;31mNameError\u001b[0m: name 'hello' is not defined"
     ]
    }
   ],
   "source": [
    "from test import *\n",
    "\n",
    "hello()"
   ]
  }
 ],
 "metadata": {
  "kernelspec": {
   "display_name": "Python 3.10.4 64-bit (system)",
   "language": "python",
   "name": "python3"
  },
  "language_info": {
   "codemirror_mode": {
    "name": "ipython",
    "version": 3
   },
   "file_extension": ".py",
   "mimetype": "text/x-python",
   "name": "python",
   "nbconvert_exporter": "python",
   "pygments_lexer": "ipython3",
   "version": "3.10.4"
  },
  "orig_nbformat": 4,
  "vscode": {
   "interpreter": {
    "hash": "daa3775c258f7f298d575ad819388c2e6c4f5f93d4f10549259e2c28c68ce4e5"
   }
  }
 },
 "nbformat": 4,
 "nbformat_minor": 2
}
