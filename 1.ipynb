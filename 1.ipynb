{
 "cells": [
  {
   "cell_type": "code",
   "execution_count": 1,
   "metadata": {},
   "outputs": [
    {
     "name": "stdout",
     "output_type": "stream",
     "text": [
      "Hello Wold\n"
     ]
    }
   ],
   "source": [
    "print(\"Hello Wold\")"
   ]
  },
  {
   "cell_type": "code",
   "execution_count": 2,
   "metadata": {},
   "outputs": [
    {
     "name": "stdout",
     "output_type": "stream",
     "text": [
      "10\n"
     ]
    }
   ],
   "source": [
    "var =10\n",
    "print(var)"
   ]
  },
  {
   "cell_type": "code",
   "execution_count": 4,
   "metadata": {},
   "outputs": [
    {
     "ename": "TypeError",
     "evalue": "'<' not supported between instances of 'list' and 'int'",
     "output_type": "error",
     "traceback": [
      "\u001b[0;31m---------------------------------------------------------------------------\u001b[0m",
      "\u001b[0;31mTypeError\u001b[0m                                 Traceback (most recent call last)",
      "\u001b[0;32m<ipython-input-4-b8a3d19e24f4>\u001b[0m in \u001b[0;36m<module>\u001b[0;34m\u001b[0m\n\u001b[1;32m      1\u001b[0m \u001b[0mword\u001b[0m \u001b[0;34m=\u001b[0m \u001b[0;34m'abrarcadabra'\u001b[0m\u001b[0;34m\u001b[0m\u001b[0;34m\u001b[0m\u001b[0m\n\u001b[1;32m      2\u001b[0m \u001b[0mlist_my\u001b[0m \u001b[0;34m=\u001b[0m \u001b[0;34m[\u001b[0m\u001b[0;36m0\u001b[0m\u001b[0;34m,\u001b[0m\u001b[0;36m1\u001b[0m\u001b[0;34m,\u001b[0m\u001b[0;36m5\u001b[0m\u001b[0;34m,\u001b[0m\u001b[0;34m-\u001b[0m\u001b[0;36m4\u001b[0m\u001b[0;34m,\u001b[0m\u001b[0;34m[\u001b[0m\u001b[0;36m0\u001b[0m\u001b[0;34m,\u001b[0m\u001b[0;36m3\u001b[0m\u001b[0;34m]\u001b[0m\u001b[0;34m,\u001b[0m\u001b[0;34m[\u001b[0m\u001b[0;34m]\u001b[0m\u001b[0;34m]\u001b[0m\u001b[0;34m\u001b[0m\u001b[0;34m\u001b[0m\u001b[0m\n\u001b[0;32m----> 3\u001b[0;31m \u001b[0msorted\u001b[0m\u001b[0;34m(\u001b[0m\u001b[0mlist_my\u001b[0m\u001b[0;34m)\u001b[0m\u001b[0;34m\u001b[0m\u001b[0;34m\u001b[0m\u001b[0m\n\u001b[0m",
      "\u001b[0;31mTypeError\u001b[0m: '<' not supported between instances of 'list' and 'int'"
     ]
    }
   ],
   "source": [
    "word = 'abrarcadabra'\n",
    "list_my = [0,1,5,-4,[0,3],[]]\n",
    "sorted(list_my)"
   ]
  },
  {
   "cell_type": "code",
   "execution_count": 10,
   "metadata": {},
   "outputs": [
    {
     "name": "stdout",
     "output_type": "stream",
     "text": [
      "a\n",
      "b\n",
      "r\n",
      "a\n",
      "c\n",
      "a\n",
      "d\n",
      "a\n",
      "b\n",
      "r\n",
      "a\n"
     ]
    }
   ],
   "source": [
    "string_my = 'abracadabra'\n",
    "i = 0\n",
    "for i in string_my:\n",
    " print(i)"
   ]
  },
  {
   "cell_type": "code",
   "execution_count": 14,
   "metadata": {},
   "outputs": [
    {
     "name": "stdout",
     "output_type": "stream",
     "text": [
      "133333333466666670\n"
     ]
    }
   ],
   "source": [
    "s = 0\n",
    "for i in range(1,1_000_000_002):\n",
    "    if ((i%3 == 0) and (i%10 !=4) and (i%10 != 7)):\n",
    "        s+=i;\n",
    "print(s)"
   ]
  },
  {
   "cell_type": "code",
   "execution_count": 46,
   "metadata": {},
   "outputs": [],
   "source": [
    "test_input_file = open(\"test_input_file_1.txt\")\n",
    "input_lines = test_input_file.readlines()\n",
    "output_string = \"\"\n",
    "result = 0\n",
    "for line in input_lines:\n",
    "    opp_tuple = line.partition(\"    \")\n",
    "    opp_string = opp_tuple[0]\n",
    "    arg1_tuple = opp_tuple[2].partition(\"    \")\n",
    "    arg1_string = arg1_tuple[0]\n",
    "    arg2_string = arg1_tuple[2]\n",
    "    arg1 = int(arg1_string)\n",
    "    arg2 = int(arg2_string)\n",
    "    if opp_string == '+':\n",
    "        result = arg1 + arg2\n",
    "    elif opp_string == '-':\n",
    "        result = arg1 - arg2\n",
    "    elif opp_string == '//':\n",
    "        result = arg1 // arg2\n",
    "    elif opp_string == '**':\n",
    "        result = arg1 ** arg2\n",
    "    elif opp_string == '*':\n",
    "        result = arg1 * arg2\n",
    "    elif opp_string == '%':\n",
    "        result = arg1 % arg2\n",
    "    else:\n",
    "        print(\"incorrect opp: \"+opp_string)\n",
    "        break\n",
    "    output_string += \",\"+str(result)\n",
    "test_output_file = open(\"test_output_file.txt\",\"w\")\n",
    "test_output_file.write(output_string[1:])\n",
    "test_input_file.close()\n",
    "test_output_file.close()"
   ]
  },
  {
   "cell_type": "code",
   "execution_count": 62,
   "metadata": {},
   "outputs": [
    {
     "name": "stdout",
     "output_type": "stream",
     "text": [
      "success\n"
     ]
    }
   ],
   "source": [
    "test_output_file = open(\"test_output_file.txt\")\n",
    "test_output_file_1 = open(\"test_output_file_1.txt\")\n",
    "output_file_str = test_output_file.read()\n",
    "output_file_1_str = test_output_file_1.read()\n",
    "if output_file_1_str == output_file_str:\n",
    "    print(\"success\")\n",
    "else:\n",
    "    print(\"fail\")\n",
    "    if len(output_file_1_str) != len(output_file_str):\n",
    "        print(\"len(output_file_1_str) != len(output_string): \"+str(len(output_file_1_str))+\"!=\"+str(len(output_file_str)))\n",
    "        if len(output_file_1_str) < len(output_file_str):\n",
    "            for i in range(0,len(output_file_1_str)):\n",
    "                if output_file_1_str[i] != output_file_str[i]:\n",
    "                    print(\"output_file_1_str[i] != output_string[i] \" + \"i ==\" + str(i))\n",
    "                    break\n",
    "            if i == len(output_file_1_str):\n",
    "                print(\"more symbols:\"+output_file_str[i:])\n",
    "        else:\n",
    "            print(\"output_file_1 bigger than output_file\")\n",
    "    else:\n",
    "        print(\"file size is identical \")\n",
    "test_output_file_1.close()\n",
    "test_output_file.close()"
   ]
  },
  {
   "cell_type": "code",
   "execution_count": 63,
   "metadata": {},
   "outputs": [],
   "source": [
    "input_file = open(\"input_file.txt\")\n",
    "input_lines = input_file.readlines()\n",
    "output_string = \"\"\n",
    "result = 0\n",
    "for line in input_lines:\n",
    "    opp_tuple = line.partition(\"    \")\n",
    "    opp_string = opp_tuple[0]\n",
    "    arg1_tuple = opp_tuple[2].partition(\"    \")\n",
    "    arg1_string = arg1_tuple[0]\n",
    "    arg2_string = arg1_tuple[2]\n",
    "    arg1 = int(arg1_string)\n",
    "    arg2 = int(arg2_string)\n",
    "    if opp_string == '+':\n",
    "        result = arg1 + arg2\n",
    "    elif opp_string == '-':\n",
    "        result = arg1 - arg2\n",
    "    elif opp_string == '//':\n",
    "        result = arg1 // arg2\n",
    "    elif opp_string == '**':\n",
    "        result = arg1 ** arg2\n",
    "    elif opp_string == '*':\n",
    "        result = arg1 * arg2\n",
    "    elif opp_string == '%':\n",
    "        result = arg1 % arg2\n",
    "    else:\n",
    "        print(\"incorrect opp: \"+opp_string)\n",
    "        break\n",
    "    output_string += \",\"+str(result)\n",
    "output_file = open(\"output_file.txt\",\"w\")\n",
    "output_file.write(output_string[1:])\n",
    "input_file.close()\n",
    "output_file.close()"
   ]
  },
  {
   "cell_type": "code",
   "execution_count": 66,
   "metadata": {},
   "outputs": [],
   "source": [
    "# task 2 test generate\n",
    "import_file_1 = open(\"test_import_file_2_1.txt\")\n",
    "import_file_2 = open(\"test_import_file_2_2.txt\")\n",
    "output_file = open(\"test_output_file_2_my.txt\", \"w\")\n",
    "\n",
    "import_file_1_strings = import_file_1.readlines()\n",
    "import_file_2_strings = import_file_2.readlines()\n",
    "output_string = \"\"\n",
    "\n",
    "if len(import_file_1_strings) != len(import_file_2_strings) :\n",
    "    print(\"import files do not match size\")\n",
    "else:\n",
    "    for i in range(len(import_file_1_strings)):\n",
    "        opp = import_file_2_strings[i].partition(\" \")\n",
    "        start = int(opp[0])\n",
    "        end  = int(opp[2])\n",
    "        if end > len(import_file_1_strings[i]):\n",
    "            print(\"incorrect end on line \"+str(i))\n",
    "        if start > end :\n",
    "            print(\"incorrect import file 1 on line \"+str(i))\n",
    "            break\n",
    "        output_string += \" \" + import_file_1_strings[i][start:(end+1)]\n",
    "output_file.write(output_string[1:])      \n",
    "import_file_1.close()\n",
    "import_file_2.close()\n",
    "output_file.close()"
   ]
  },
  {
   "cell_type": "code",
   "execution_count": 69,
   "metadata": {},
   "outputs": [
    {
     "name": "stdout",
     "output_type": "stream",
     "text": [
      "success\n"
     ]
    }
   ],
   "source": [
    "#task 2 test check\n",
    "\n",
    "output_file_my = open(\"test_output_file_2_my.txt\")\n",
    "output_file_original = open(\"test_output_file_2.txt\")\n",
    "\n",
    "str_my = output_file_my.read()\n",
    "str_original = output_file_original.read()\n",
    "\n",
    "if len(str_my) != len(str_original):\n",
    "    print(\"file size do not match\")\n",
    "else:\n",
    "    if str_my != str_original:\n",
    "        print(\"file contents do not match on position \")\n",
    "    else:\n",
    "        print(\"success\")\n",
    "\n",
    "output_file_my.close()\n",
    "output_file_original.close()"
   ]
  },
  {
   "cell_type": "code",
   "execution_count": 71,
   "metadata": {},
   "outputs": [],
   "source": [
    "# task 2 main generate\n",
    "import_file_1 = open(\"import_file_2_1.txt\")\n",
    "import_file_2 = open(\"import_file_2_2.txt\")\n",
    "output_file = open(\"output_file_2.txt\", \"w\")\n",
    "\n",
    "import_file_1_strings = import_file_1.readlines()\n",
    "import_file_2_strings = import_file_2.readlines()\n",
    "output_string = \"\"\n",
    "\n",
    "if len(import_file_1_strings) != len(import_file_2_strings) :\n",
    "    print(\"import files do not match size\")\n",
    "else:\n",
    "    for i in range(len(import_file_1_strings)):\n",
    "        opp = import_file_2_strings[i].partition(\" \")\n",
    "        start = int(opp[0])\n",
    "        end  = int(opp[2])\n",
    "        if end > len(import_file_1_strings[i]):\n",
    "            print(\"incorrect end on line \"+str(i))\n",
    "        if start > end :\n",
    "            print(\"incorrect import file 1 on line \"+str(i))\n",
    "            break\n",
    "        output_string += \" \" + import_file_1_strings[i][start:(end+1)]\n",
    "output_file.write(output_string[1:])      \n",
    "import_file_1.close()\n",
    "import_file_2.close()\n",
    "output_file.close()"
   ]
  },
  {
   "cell_type": "code",
   "execution_count": 102,
   "metadata": {},
   "outputs": [],
   "source": [
    "import json\n",
    "\n",
    "periodic_table_file = open('periodic_table.json')\n",
    "periodic_table = json.load(periodic_table_file)\n",
    "import_file_3 = open(\"import_file_3.txt\")\n",
    "output_file_3 = open(\"output_file_3.txt\",\"w\")\n",
    "\n",
    "import_string = import_file_3.read()\n",
    "output_string= \"\"\n",
    "\n",
    "uppercase_symbols_set = {'A','B','C','D','E','F','G','H','I','J','K','L','M','N','O','P','Q','R','S','T','U','V','W','X','Y','Z'}\n",
    "elements_positions_list = []\n",
    "#find elemenet codes\n",
    "for letter_position in range(len(import_string)):\n",
    "    if import_string[letter_position] in uppercase_symbols_set:\n",
    "        #start of new element - remember\n",
    "        elements_positions_list.append(letter_position)\n",
    "        #print(\"+\" + str(letter_position))\n",
    "\n",
    "#check\n",
    "if(len(elements_positions_list) < 2) :\n",
    "    print('found only one element - fail')\n",
    "for i in range(1,len(elements_positions_list)):\n",
    "    if (elements_positions_list[i] - elements_positions_list[i-1]) in range(1,4) :\n",
    "        continue\n",
    "    else:\n",
    "        print(\"incorrectly read position \"+str(elements_positions_list[i-1])+\" element : \"+import_string[elements_positions_list[i-1]:elements_positions_list[i]])\n",
    "        \n",
    "\n",
    "#transform\n",
    "for i in range(1,len(elements_positions_list)):\n",
    "    element_code = import_string[elements_positions_list[i-1]:elements_positions_list[i]]\n",
    "    element_name = periodic_table.get(element_code,'-')\n",
    "    output_string += element_name if element_name != '-' else print(\"no such element by code:\"+element_code)\n",
    "element_code = import_string[elements_positions_list.pop():]\n",
    "element_name = periodic_table.get(element_code,'-')\n",
    "output_string += element_name if element_name != '-' else print(\"no such element by code:\"+element_code)\n",
    "\n",
    "output_file_3.write(output_string)\n",
    "periodic_table_file.close()\n",
    "import_file_3.close()\n",
    "output_file_3.close()\n"
   ]
  }
 ],
 "metadata": {
  "kernelspec": {
   "display_name": "Python 3.8.5 ('base')",
   "language": "python",
   "name": "python3"
  },
  "language_info": {
   "codemirror_mode": {
    "name": "ipython",
    "version": 3
   },
   "file_extension": ".py",
   "mimetype": "text/x-python",
   "name": "python",
   "nbconvert_exporter": "python",
   "pygments_lexer": "ipython3",
   "version": "3.8.5"
  },
  "orig_nbformat": 4,
  "vscode": {
   "interpreter": {
    "hash": "78af5ac604e98fc3690cd4f0e0389ba6a0e2e20eefa43ee3b81103795c2dc7b7"
   }
  }
 },
 "nbformat": 4,
 "nbformat_minor": 2
}
